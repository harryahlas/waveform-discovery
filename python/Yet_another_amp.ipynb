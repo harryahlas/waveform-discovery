{
  "nbformat": 4,
  "nbformat_minor": 0,
  "metadata": {
    "colab": {
      "provenance": [],
      "gpuType": "T4"
    },
    "kernelspec": {
      "name": "python3",
      "display_name": "Python 3"
    },
    "language_info": {
      "name": "python"
    },
    "accelerator": "GPU"
  },
  "cells": [
    {
      "cell_type": "markdown",
      "source": [
        "New process - note that new wavenet test works much better."
      ],
      "metadata": {
        "id": "r6HzRVldPULO"
      }
    },
    {
      "cell_type": "code",
      "source": [
        "from google.colab import drive\n",
        "drive.mount('/content/gdrive')"
      ],
      "metadata": {
        "colab": {
          "base_uri": "https://localhost:8080/"
        },
        "id": "m5iA5TGONmCB",
        "outputId": "21076a9c-24ba-4126-df79-8dd533434a84"
      },
      "execution_count": 11,
      "outputs": [
        {
          "output_type": "stream",
          "name": "stdout",
          "text": [
            "Drive already mounted at /content/gdrive; to attempt to forcibly remount, call drive.mount(\"/content/gdrive\", force_remount=True).\n"
          ]
        }
      ]
    },
    {
      "cell_type": "code",
      "source": [
        "####### new everything\n",
        "\n",
        "frame_rate = 44100\n",
        "\n",
        "import os\n",
        "import soundfile as sf\n",
        "import numpy as np\n",
        "import tensorflow as tf\n",
        "from tensorflow.keras.callbacks import ModelCheckpoint, EarlyStopping\n",
        "from tensorflow.keras.models import Sequential\n",
        "from tensorflow.keras.layers import Dense, Dropout\n",
        "\n",
        "# Load the audio files\n",
        "def load_wav_file(file_path):\n",
        "  data, frame_rate = sf.read(file_path)\n",
        "  return data, frame_rate\n",
        "\n",
        "# Function to save file\n",
        "def save_wav_file(file_path, data, frame_rate):\n",
        " sf.write(file_path, data, frame_rate)\n",
        "\n",
        "audio_folder = '/content/gdrive/MyDrive/Development/audio/'\n",
        "di_train_path = os.path.join(audio_folder, 'train_x.wav')\n",
        "dist_train_path = os.path.join(audio_folder, 'train_y.wav')\n",
        "di_test_path = os.path.join(audio_folder, 'di_01.wav')\n",
        "\n",
        "di_train_data, _ = load_wav_file(di_train_path)\n",
        "dist_train_data, _ = load_wav_file(dist_train_path)\n",
        "di_test_data, _ = load_wav_file(di_test_path)\n",
        "\n",
        "# Reshape the data to 2D\n",
        "di_train_data = np.expand_dims(di_train_data, axis=1)\n",
        "dist_train_data = np.expand_dims(dist_train_data, axis=1)\n",
        "di_test_data = np.expand_dims(di_test_data, axis=1)\n",
        "\n",
        "# Build the model\n",
        "model = Sequential()\n",
        "model.add(Dense(256, input_shape=(di_train_data.shape[1],), activation='relu'))\n",
        "model.add(Dropout(0.5))\n",
        "model.add(Dense(128, activation='relu'))\n",
        "model.add(Dropout(0.5))\n",
        "model.add(Dense(dist_train_data.shape[1], activation='linear'))\n",
        "\n",
        "model.compile(optimizer='adam', loss='mse')"
      ],
      "metadata": {
        "id": "UxhbsyiaN8Aq"
      },
      "execution_count": 2,
      "outputs": []
    },
    {
      "cell_type": "code",
      "source": [
        "\n",
        "# Define the early stopping criteria\n",
        "early_stopping = EarlyStopping(monitor='val_loss', patience=3)\n",
        "\n",
        "# Define the model checkpoint callback\n",
        "checkpoint = ModelCheckpoint('model_weights.h5', save_best_only=True, monitor='val_loss')\n"
      ],
      "metadata": {
        "id": "G0vt2SpXOrwU"
      },
      "execution_count": 4,
      "outputs": []
    },
    {
      "cell_type": "code",
      "source": [
        "\n",
        "\n",
        "# Train the model with early stopping and model checkpoint\n",
        "history = model.fit(di_train_data, dist_train_data, epochs=10, validation_split=0.2, callbacks=[early_stopping, checkpoint])\n",
        "\n",
        "\n"
      ],
      "metadata": {
        "colab": {
          "base_uri": "https://localhost:8080/"
        },
        "id": "3_-Ewss8xaGH",
        "outputId": "2d80363f-db44-4302-c8d8-fcb6b6eed813"
      },
      "execution_count": 10,
      "outputs": [
        {
          "output_type": "stream",
          "name": "stdout",
          "text": [
            "Epoch 1/10\n",
            "264600/264600 [==============================] - 974s 4ms/step - loss: 0.0665 - val_loss: 0.0579\n",
            "Epoch 2/10\n",
            "264600/264600 [==============================] - 948s 4ms/step - loss: 0.0665 - val_loss: 0.0578\n",
            "Epoch 3/10\n",
            "264600/264600 [==============================] - 914s 3ms/step - loss: 0.0665 - val_loss: 0.0577\n",
            "Epoch 4/10\n",
            "264600/264600 [==============================] - 948s 4ms/step - loss: 0.0665 - val_loss: 0.0577\n",
            "Epoch 5/10\n",
            "264600/264600 [==============================] - 911s 3ms/step - loss: 0.0665 - val_loss: 0.0577\n",
            "Epoch 6/10\n",
            "264600/264600 [==============================] - 908s 3ms/step - loss: 0.0665 - val_loss: 0.0578\n",
            "Epoch 7/10\n",
            "264600/264600 [==============================] - 911s 3ms/step - loss: 0.0665 - val_loss: 0.0577\n"
          ]
        }
      ]
    },
    {
      "cell_type": "code",
      "source": [
        "model.save('/content/gdrive/MyDrive/Development/audio/yet_another_amp_model.h5')\n"
      ],
      "metadata": {
        "id": "YD-g0BxsZA8S"
      },
      "execution_count": 11,
      "outputs": []
    },
    {
      "cell_type": "code",
      "source": [
        "# optional - load saved model\n",
        "# from tensorflow.keras.models import load_model\n",
        "# load_model('/content/gdrive/MyDrive/Development/audio/yet_another_amp_model.h5')"
      ],
      "metadata": {
        "colab": {
          "base_uri": "https://localhost:8080/"
        },
        "id": "tYzvvlJ_Kqvm",
        "outputId": "ea9c65c1-3aa3-468d-8922-277e04c9de88"
      },
      "execution_count": 8,
      "outputs": [
        {
          "output_type": "execute_result",
          "data": {
            "text/plain": [
              "<keras.src.engine.sequential.Sequential at 0x791d7537e5f0>"
            ]
          },
          "metadata": {},
          "execution_count": 8
        }
      ]
    },
    {
      "cell_type": "code",
      "source": [
        "# Predict the test output\n",
        "dist_test_data = model.predict(di_test_data)\n",
        "\n"
      ],
      "metadata": {
        "colab": {
          "base_uri": "https://localhost:8080/"
        },
        "id": "aoFdOr-uO6jD",
        "outputId": "079610b6-bbd6-4108-df89-480ebe7c4ac8"
      },
      "execution_count": 20,
      "outputs": [
        {
          "output_type": "stream",
          "name": "stdout",
          "text": [
            "31798/31798 [==============================] - 203s 6ms/step\n"
          ]
        }
      ]
    },
    {
      "cell_type": "code",
      "source": [
        "# Save the test output as a WAV file\n",
        "dist_test_path = os.path.join(audio_folder, 'dist_testttt2.wav')\n",
        "save_wav_file(dist_test_path, dist_test_data, frame_rate)"
      ],
      "metadata": {
        "id": "wh2yPTE8U01o"
      },
      "execution_count": 21,
      "outputs": []
    },
    {
      "cell_type": "markdown",
      "source": [
        "New wavenet test"
      ],
      "metadata": {
        "id": "O4L3AtVwbpnx"
      }
    },
    {
      "cell_type": "code",
      "source": [
        "!pip install keras-tcn\n"
      ],
      "metadata": {
        "id": "Dazm1uakb4nB"
      },
      "execution_count": null,
      "outputs": []
    },
    {
      "cell_type": "code",
      "source": [
        "\n",
        "\n",
        "frame_rate = 44100\n",
        "\n",
        "import os\n",
        "import soundfile as sf\n",
        "import numpy as np\n",
        "import tensorflow as tf\n",
        "from tensorflow.keras.callbacks import ModelCheckpoint, EarlyStopping\n",
        "from tensorflow.keras.models import Sequential\n",
        "from tensorflow.keras.layers import Dense, Dropout\n",
        "from tensorflow.keras.models import Sequential\n",
        "from tensorflow.keras.layers import Dense, Dropout\n",
        "from tcn import TCN\n",
        "\n",
        "\n",
        "# Load the audio files\n",
        "def load_wav_file(file_path):\n",
        "  data, frame_rate = sf.read(file_path)\n",
        "  return data, frame_rate\n",
        "\n",
        "# Function to save file\n",
        "def save_wav_file(file_path, data, frame_rate):\n",
        " sf.write(file_path, data, frame_rate)\n",
        "\n",
        "audio_folder = '/content/gdrive/MyDrive/Development/audio/'\n",
        "di_train_path = os.path.join(audio_folder, 'train_x.wav')\n",
        "dist_train_path = os.path.join(audio_folder, 'train_y.wav')\n",
        "di_test_path = os.path.join(audio_folder, 'di_01.wav')\n",
        "\n",
        "di_train_data, _ = load_wav_file(di_train_path)\n",
        "dist_train_data, _ = load_wav_file(dist_train_path)\n",
        "di_test_data, _ = load_wav_file(di_test_path)\n",
        "\n",
        "# Reshape the data to 2D\n",
        "di_train_data = np.expand_dims(di_train_data, axis=1)\n",
        "dist_train_data = np.expand_dims(dist_train_data, axis=1)\n",
        "di_test_data = np.expand_dims(di_test_data, axis=1)\n",
        "\n",
        "# Build the model\n",
        "model = Sequential()\n",
        "model.add(TCN(input_shape=(None, 1)))\n",
        "model.add(Dropout(0.5))\n",
        "model.add(Dense(dist_train_data.shape[1], activation='linear'))\n",
        "\n",
        "model.compile(optimizer='adam', loss='mse')"
      ],
      "metadata": {
        "id": "YrGvVk3wbo55"
      },
      "execution_count": 14,
      "outputs": []
    },
    {
      "cell_type": "code",
      "source": [
        "# Define the early stopping criteria\n",
        "early_stopping = EarlyStopping(monitor='val_loss', patience=3)\n",
        "\n",
        "# Define the model checkpoint callback\n",
        "checkpoint = ModelCheckpoint('model_weights.h5', save_best_only=True, monitor='val_loss')"
      ],
      "metadata": {
        "id": "Sm2OLfjkcF1q"
      },
      "execution_count": 16,
      "outputs": []
    },
    {
      "cell_type": "code",
      "source": [
        "history = model.fit(di_train_data, dist_train_data, epochs=1, validation_split=0.2, callbacks=[early_stopping, checkpoint])\n"
      ],
      "metadata": {
        "colab": {
          "base_uri": "https://localhost:8080/"
        },
        "id": "B726CS7ocBJI",
        "outputId": "ea9208bb-1abc-4b70-cc32-ea9ef6d951fd"
      },
      "execution_count": 18,
      "outputs": [
        {
          "output_type": "stream",
          "name": "stdout",
          "text": [
            "264600/264600 [==============================] - 6763s 26ms/step - loss: 0.0663 - val_loss: 0.0575\n"
          ]
        },
        {
          "output_type": "stream",
          "name": "stderr",
          "text": [
            "/usr/local/lib/python3.10/dist-packages/keras/src/engine/training.py:3079: UserWarning: You are saving your model as an HDF5 file via `model.save()`. This file format is considered legacy. We recommend using instead the native Keras format, e.g. `model.save('my_model.keras')`.\n",
            "  saving_api.save_model(\n"
          ]
        }
      ]
    },
    {
      "cell_type": "code",
      "source": [
        "model.save('/content/gdrive/MyDrive/Development/audio/yet_another_amp_model_wavenet.h5')\n"
      ],
      "metadata": {
        "id": "Ax9pNUZ1eIWA"
      },
      "execution_count": 19,
      "outputs": []
    },
    {
      "cell_type": "code",
      "source": [],
      "metadata": {
        "id": "Eot8ggsReE72"
      },
      "execution_count": null,
      "outputs": []
    },
    {
      "cell_type": "markdown",
      "source": [
        "Old process - REMOVE"
      ],
      "metadata": {
        "id": "td39oCv1PeWK"
      }
    },
    {
      "cell_type": "code",
      "source": [
        "# remove\n",
        "\n",
        "# Export - I think you need this for below\n",
        "\n",
        "import soundfile as sf\n",
        "frame_rate = 44100\n",
        "def save_wav_file(file_path, data, frame_rate):\n",
        " sf.write(file_path, data, frame_rate)\n",
        "\n",
        "# Save the test output as a WAV file\n",
        "#dist_test_path = os.path.join(audio_folder, 'dist_test.wav')\n",
        "save_wav_file('/content/gdrive/MyDrive/Development/audio/dist_testxxxxx.wav', dist_test_data, frame_rate)"
      ],
      "metadata": {
        "id": "PvJhlBTOremn"
      },
      "execution_count": null,
      "outputs": []
    },
    {
      "cell_type": "code",
      "execution_count": 1,
      "metadata": {
        "colab": {
          "base_uri": "https://localhost:8080/"
        },
        "id": "vCmN_M-1dNFT",
        "outputId": "14a5d0c7-56b0-4480-c6bd-0c44a40255dd"
      },
      "outputs": [
        {
          "output_type": "stream",
          "name": "stdout",
          "text": [
            "Mounted at /content/gdrive\n"
          ]
        }
      ],
      "source": [
        "from google.colab import drive\n",
        "drive.mount('/content/gdrive')"
      ]
    },
    {
      "cell_type": "code",
      "source": [
        "# remove\n",
        "\n",
        "import os\n",
        "import wave\n",
        "import numpy as np\n",
        "import tensorflow as tf\n",
        "from sklearn.model_selection import train_test_split\n"
      ],
      "metadata": {
        "id": "X_7gSEwAdfip"
      },
      "execution_count": null,
      "outputs": []
    },
    {
      "cell_type": "code",
      "source": [
        "# remove\n",
        "import soundfile as sf\n",
        "\n",
        "def load_wav_file(file_path):\n",
        "   data, frame_rate = sf.read(file_path)\n",
        "   return data, frame_rate\n",
        "\n",
        "di_train_data, _ = load_wav_file('/content/gdrive/MyDrive/Development/audio/train_x.wav')\n",
        "dist_train_data, _ = load_wav_file('/content/gdrive/MyDrive/Development/audio/train_y.wav')\n",
        "di_test_data, _ = load_wav_file('/content/gdrive/MyDrive/Development/audio/di_01.wav')\n"
      ],
      "metadata": {
        "id": "Grgf5Amke2Fj"
      },
      "execution_count": null,
      "outputs": []
    },
    {
      "cell_type": "code",
      "source": [
        "# remove\n",
        "#di_train_data = np.expand_dims(di_train_data, axis=1)\n",
        "di_train_data = di_train_data.reshape(-1, 1)\n",
        "dist_train_data = dist_train_data.reshape(-1, 1)\n"
      ],
      "metadata": {
        "id": "0n8cuUe1fIr5"
      },
      "execution_count": null,
      "outputs": []
    },
    {
      "cell_type": "code",
      "source": [
        "# remove\n",
        "model = tf.keras.models.Sequential([\n",
        "  tf.keras.layers.Dense(128, activation='relu', input_shape=(di_train_data.shape[1],)),\n",
        "  tf.keras.layers.Dense(64, activation='relu'),\n",
        "  tf.keras.layers.Dense(dist_train_data.shape[1])\n",
        "])\n",
        "\n"
      ],
      "metadata": {
        "id": "-GSwx98rfANh"
      },
      "execution_count": null,
      "outputs": []
    },
    {
      "cell_type": "code",
      "source": [
        "# remove\n",
        "model.compile(optimizer='adam', loss='mse')\n",
        "\n",
        "history = model.fit(di_train_data, dist_train_data, epochs=10, validation_split=0.2)"
      ],
      "metadata": {
        "id": "jSEMfxqZrMau"
      },
      "execution_count": null,
      "outputs": []
    },
    {
      "cell_type": "code",
      "source": [
        "# remove\n",
        "dist_test_data = model.predict(di_train_data[0:301753,])\n",
        "# dist_test_data = model.predict(di_test_data)"
      ],
      "metadata": {
        "colab": {
          "base_uri": "https://localhost:8080/"
        },
        "id": "hTeDOwyqrPvt",
        "outputId": "2672651c-e2e5-4007-e15f-d85a3b990414"
      },
      "execution_count": null,
      "outputs": [
        {
          "output_type": "stream",
          "name": "stdout",
          "text": [
            "9430/9430 [==============================] - 18s 2ms/step\n"
          ]
        }
      ]
    }
  ]
}