{
  "nbformat": 4,
  "nbformat_minor": 0,
  "metadata": {
    "colab": {
      "provenance": [],
      "gpuType": "T4"
    },
    "kernelspec": {
      "name": "python3",
      "display_name": "Python 3"
    },
    "language_info": {
      "name": "python"
    },
    "accelerator": "GPU"
  },
  "cells": [
    {
      "cell_type": "markdown",
      "source": [
        "New process"
      ],
      "metadata": {
        "id": "r6HzRVldPULO"
      }
    },
    {
      "cell_type": "code",
      "source": [
        "from google.colab import drive\n",
        "drive.mount('/content/gdrive')"
      ],
      "metadata": {
        "id": "m5iA5TGONmCB"
      },
      "execution_count": null,
      "outputs": []
    },
    {
      "cell_type": "code",
      "source": [
        "####### new everything\n",
        "\n",
        "frame_rate = 44100\n",
        "\n",
        "import os\n",
        "import soundfile as sf\n",
        "import numpy as np\n",
        "import tensorflow as tf\n",
        "from tensorflow.keras.callbacks import ModelCheckpoint, EarlyStopping\n",
        "from tensorflow.keras.models import Sequential\n",
        "from tensorflow.keras.layers import Dense, Dropout\n",
        "\n",
        "# Load the audio files\n",
        "def load_wav_file(file_path):\n",
        "  data, frame_rate = sf.read(file_path)\n",
        "  return data, frame_rate\n",
        "\n",
        "# Function to save file\n",
        "def save_wav_file(file_path, data, frame_rate):\n",
        " sf.write(file_path, data, frame_rate)\n",
        "\n",
        "audio_folder = '/content/gdrive/MyDrive/Development/audio/'\n",
        "di_train_path = os.path.join(audio_folder, 'train_x.wav')\n",
        "dist_train_path = os.path.join(audio_folder, 'train_y.wav')\n",
        "di_test_path = os.path.join(audio_folder, 'di_01.wav')\n",
        "\n",
        "di_train_data, _ = load_wav_file(di_train_path)\n",
        "dist_train_data, _ = load_wav_file(dist_train_path)\n",
        "di_test_data, _ = load_wav_file(di_test_path)\n",
        "\n",
        "# Reshape the data to 2D\n",
        "di_train_data = np.expand_dims(di_train_data, axis=1)\n",
        "dist_train_data = np.expand_dims(dist_train_data, axis=1)\n",
        "di_test_data = np.expand_dims(di_test_data, axis=1)\n",
        "\n",
        "# Build the model\n",
        "model = Sequential()\n",
        "model.add(Dense(256, input_shape=(di_train_data.shape[1],), activation='relu'))\n",
        "model.add(Dropout(0.5))\n",
        "model.add(Dense(128, activation='relu'))\n",
        "model.add(Dropout(0.5))\n",
        "model.add(Dense(dist_train_data.shape[1], activation='linear'))\n",
        "\n",
        "model.compile(optimizer='adam', loss='mse')"
      ],
      "metadata": {
        "id": "UxhbsyiaN8Aq"
      },
      "execution_count": 3,
      "outputs": []
    },
    {
      "cell_type": "code",
      "source": [
        "\n",
        "# Define the early stopping criteria\n",
        "early_stopping = EarlyStopping(monitor='val_loss', patience=3)\n",
        "\n",
        "# Define the model checkpoint callback\n",
        "checkpoint = ModelCheckpoint('model_weights.h5', save_best_only=True, monitor='val_loss')\n"
      ],
      "metadata": {
        "id": "G0vt2SpXOrwU"
      },
      "execution_count": 4,
      "outputs": []
    },
    {
      "cell_type": "code",
      "source": [
        "\n",
        "\n",
        "# Train the model with early stopping and model checkpoint\n",
        "history = model.fit(di_train_data, dist_train_data, epochs=1, validation_split=0.2, callbacks=[early_stopping, checkpoint])\n",
        "\n",
        "\n"
      ],
      "metadata": {
        "colab": {
          "base_uri": "https://localhost:8080/"
        },
        "id": "3_-Ewss8xaGH",
        "outputId": "f7b17963-8e4b-44c1-fb5e-ab8704781b0c"
      },
      "execution_count": 5,
      "outputs": [
        {
          "output_type": "stream",
          "name": "stdout",
          "text": [
            "264600/264600 [==============================] - 968s 4ms/step - loss: 0.0665 - val_loss: 0.0578\n"
          ]
        },
        {
          "output_type": "stream",
          "name": "stderr",
          "text": [
            "/usr/local/lib/python3.10/dist-packages/keras/src/engine/training.py:3079: UserWarning: You are saving your model as an HDF5 file via `model.save()`. This file format is considered legacy. We recommend using instead the native Keras format, e.g. `model.save('my_model.keras')`.\n",
            "  saving_api.save_model(\n"
          ]
        }
      ]
    },
    {
      "cell_type": "code",
      "source": [
        "# Predict the test output\n",
        "dist_test_data = model.predict(di_test_data)\n",
        "\n"
      ],
      "metadata": {
        "colab": {
          "base_uri": "https://localhost:8080/"
        },
        "id": "aoFdOr-uO6jD",
        "outputId": "353bc09c-a875-47d7-fc63-1c8224c0de46"
      },
      "execution_count": 9,
      "outputs": [
        {
          "output_type": "stream",
          "name": "stdout",
          "text": [
            "31798/31798 [==============================] - 60s 2ms/step\n"
          ]
        }
      ]
    },
    {
      "cell_type": "code",
      "source": [
        "# Save the test output as a WAV file\n",
        "dist_test_path = os.path.join(audio_folder, 'dist_test.wav')\n",
        "save_wav_file(dist_test_path, dist_test_data, frame_rate)"
      ],
      "metadata": {
        "id": "wh2yPTE8U01o"
      },
      "execution_count": 8,
      "outputs": []
    },
    {
      "cell_type": "markdown",
      "source": [
        "Old process - REMOVE"
      ],
      "metadata": {
        "id": "td39oCv1PeWK"
      }
    },
    {
      "cell_type": "code",
      "source": [
        "# remove\n",
        "\n",
        "# Export - I think you need this for below\n",
        "\n",
        "import soundfile as sf\n",
        "frame_rate = 44100\n",
        "def save_wav_file(file_path, data, frame_rate):\n",
        " sf.write(file_path, data, frame_rate)\n",
        "\n",
        "# Save the test output as a WAV file\n",
        "#dist_test_path = os.path.join(audio_folder, 'dist_test.wav')\n",
        "save_wav_file('/content/gdrive/MyDrive/Development/audio/dist_testxxxxx.wav', dist_test_data, frame_rate)"
      ],
      "metadata": {
        "id": "PvJhlBTOremn"
      },
      "execution_count": null,
      "outputs": []
    },
    {
      "cell_type": "code",
      "execution_count": 1,
      "metadata": {
        "colab": {
          "base_uri": "https://localhost:8080/"
        },
        "id": "vCmN_M-1dNFT",
        "outputId": "14a5d0c7-56b0-4480-c6bd-0c44a40255dd"
      },
      "outputs": [
        {
          "output_type": "stream",
          "name": "stdout",
          "text": [
            "Mounted at /content/gdrive\n"
          ]
        }
      ],
      "source": [
        "from google.colab import drive\n",
        "drive.mount('/content/gdrive')"
      ]
    },
    {
      "cell_type": "code",
      "source": [
        "# remove\n",
        "\n",
        "import os\n",
        "import wave\n",
        "import numpy as np\n",
        "import tensorflow as tf\n",
        "from sklearn.model_selection import train_test_split\n"
      ],
      "metadata": {
        "id": "X_7gSEwAdfip"
      },
      "execution_count": null,
      "outputs": []
    },
    {
      "cell_type": "code",
      "source": [
        "# remove\n",
        "import soundfile as sf\n",
        "\n",
        "def load_wav_file(file_path):\n",
        "   data, frame_rate = sf.read(file_path)\n",
        "   return data, frame_rate\n",
        "\n",
        "di_train_data, _ = load_wav_file('/content/gdrive/MyDrive/Development/audio/train_x.wav')\n",
        "dist_train_data, _ = load_wav_file('/content/gdrive/MyDrive/Development/audio/train_y.wav')\n",
        "di_test_data, _ = load_wav_file('/content/gdrive/MyDrive/Development/audio/di_01.wav')\n"
      ],
      "metadata": {
        "id": "Grgf5Amke2Fj"
      },
      "execution_count": null,
      "outputs": []
    },
    {
      "cell_type": "code",
      "source": [
        "# remove\n",
        "#di_train_data = np.expand_dims(di_train_data, axis=1)\n",
        "di_train_data = di_train_data.reshape(-1, 1)\n",
        "dist_train_data = dist_train_data.reshape(-1, 1)\n"
      ],
      "metadata": {
        "id": "0n8cuUe1fIr5"
      },
      "execution_count": null,
      "outputs": []
    },
    {
      "cell_type": "code",
      "source": [
        "# remove\n",
        "model = tf.keras.models.Sequential([\n",
        "  tf.keras.layers.Dense(128, activation='relu', input_shape=(di_train_data.shape[1],)),\n",
        "  tf.keras.layers.Dense(64, activation='relu'),\n",
        "  tf.keras.layers.Dense(dist_train_data.shape[1])\n",
        "])\n",
        "\n"
      ],
      "metadata": {
        "id": "-GSwx98rfANh"
      },
      "execution_count": null,
      "outputs": []
    },
    {
      "cell_type": "code",
      "source": [
        "# remove\n",
        "model.compile(optimizer='adam', loss='mse')\n",
        "\n",
        "history = model.fit(di_train_data, dist_train_data, epochs=10, validation_split=0.2)"
      ],
      "metadata": {
        "id": "jSEMfxqZrMau"
      },
      "execution_count": null,
      "outputs": []
    },
    {
      "cell_type": "code",
      "source": [
        "# remove\n",
        "dist_test_data = model.predict(di_train_data[0:301753,])\n",
        "# dist_test_data = model.predict(di_test_data)"
      ],
      "metadata": {
        "colab": {
          "base_uri": "https://localhost:8080/"
        },
        "id": "hTeDOwyqrPvt",
        "outputId": "2672651c-e2e5-4007-e15f-d85a3b990414"
      },
      "execution_count": null,
      "outputs": [
        {
          "output_type": "stream",
          "name": "stdout",
          "text": [
            "9430/9430 [==============================] - 18s 2ms/step\n"
          ]
        }
      ]
    }
  ]
}