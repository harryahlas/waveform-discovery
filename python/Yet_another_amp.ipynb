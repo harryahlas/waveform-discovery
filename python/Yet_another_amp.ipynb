{
  "nbformat": 4,
  "nbformat_minor": 0,
  "metadata": {
    "colab": {
      "provenance": [],
      "gpuType": "T4"
    },
    "kernelspec": {
      "name": "python3",
      "display_name": "Python 3"
    },
    "language_info": {
      "name": "python"
    },
    "accelerator": "GPU"
  },
  "cells": [
    {
      "cell_type": "code",
      "execution_count": 1,
      "metadata": {
        "colab": {
          "base_uri": "https://localhost:8080/"
        },
        "id": "vCmN_M-1dNFT",
        "outputId": "38293201-3cdb-4c3c-82ce-b1aec1c648fe"
      },
      "outputs": [
        {
          "output_type": "stream",
          "name": "stdout",
          "text": [
            "Mounted at /content/gdrive\n"
          ]
        }
      ],
      "source": [
        "from google.colab import drive\n",
        "drive.mount('/content/gdrive')"
      ]
    },
    {
      "cell_type": "code",
      "source": [
        "import os\n",
        "import wave\n",
        "import numpy as np\n",
        "import tensorflow as tf\n",
        "from sklearn.model_selection import train_test_split\n"
      ],
      "metadata": {
        "id": "X_7gSEwAdfip"
      },
      "execution_count": 2,
      "outputs": []
    },
    {
      "cell_type": "code",
      "source": [
        "import soundfile as sf\n",
        "\n",
        "def load_wav_file(file_path):\n",
        "   data, frame_rate = sf.read(file_path)\n",
        "   return data, frame_rate\n",
        "\n",
        "di_train_data, _ = load_wav_file('/content/gdrive/MyDrive/Development/audio/train_x.wav')\n",
        "dist_train_data, _ = load_wav_file('/content/gdrive/MyDrive/Development/audio/train_y.wav')\n",
        "di_test_data, _ = load_wav_file('/content/gdrive/MyDrive/Development/audio/di_01.wav')\n"
      ],
      "metadata": {
        "id": "Grgf5Amke2Fj"
      },
      "execution_count": 7,
      "outputs": []
    },
    {
      "cell_type": "code",
      "source": [
        "#di_train_data = np.expand_dims(di_train_data, axis=1)\n",
        "di_train_data = di_train_data.reshape(-1, 1)\n",
        "dist_train_data = dist_train_data.reshape(-1, 1)\n"
      ],
      "metadata": {
        "id": "0n8cuUe1fIr5"
      },
      "execution_count": 8,
      "outputs": []
    },
    {
      "cell_type": "code",
      "source": [
        "model = tf.keras.models.Sequential([\n",
        "  tf.keras.layers.Dense(128, activation='relu', input_shape=(di_train_data.shape[1],)),\n",
        "  tf.keras.layers.Dense(64, activation='relu'),\n",
        "  tf.keras.layers.Dense(dist_train_data.shape[1])\n",
        "])\n",
        "\n"
      ],
      "metadata": {
        "id": "-GSwx98rfANh"
      },
      "execution_count": 9,
      "outputs": []
    },
    {
      "cell_type": "code",
      "source": [
        "model.compile(optimizer='adam', loss='mse')\n",
        "\n",
        "history = model.fit(di_train_data, dist_train_data, epochs=10, validation_split=0.2)"
      ],
      "metadata": {
        "colab": {
          "base_uri": "https://localhost:8080/"
        },
        "id": "jSEMfxqZrMau",
        "outputId": "c00c6d98-0798-4b36-b542-40d44446c905"
      },
      "execution_count": null,
      "outputs": [
        {
          "output_type": "stream",
          "name": "stdout",
          "text": [
            "Epoch 1/10\n",
            " 42137/264600 [===>..........................] - ETA: 10:08 - loss: 0.0661"
          ]
        }
      ]
    },
    {
      "cell_type": "code",
      "source": [
        "dist_test_data = model.predict(di_test_data)"
      ],
      "metadata": {
        "id": "hTeDOwyqrPvt"
      },
      "execution_count": null,
      "outputs": []
    },
    {
      "cell_type": "code",
      "source": [
        "# Export\n",
        "\n",
        "import soundfile as sf\n",
        "\n",
        "def save_wav_file(file_path, data, frame_rate):\n",
        " sf.write(file_path, data, frame_rate)\n",
        "\n",
        "# Save the test output as a WAV file\n",
        "dist_test_path = os.path.join(audio_folder, 'dist_test.wav')\n",
        "save_wav_file(dist_test_path, dist_test_data, frame_rate)"
      ],
      "metadata": {
        "id": "PvJhlBTOremn"
      },
      "execution_count": null,
      "outputs": []
    }
  ]
}